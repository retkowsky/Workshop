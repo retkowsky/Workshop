{
 "cells": [
  {
   "cell_type": "markdown",
   "metadata": {},
   "source": [
    "# 1.  Analyse ML Python"
   ]
  },
  {
   "cell_type": "markdown",
   "metadata": {},
   "source": [
    "## 1. Informations"
   ]
  },
  {
   "cell_type": "code",
   "execution_count": 1,
   "metadata": {},
   "outputs": [
    {
     "data": {
      "text/plain": [
       "'3.6.9 |Anaconda, Inc.| (default, Jul 30 2019, 19:07:31) \\n[GCC 7.3.0]'"
      ]
     },
     "execution_count": 1,
     "metadata": {},
     "output_type": "execute_result"
    }
   ],
   "source": [
    "import sys\n",
    "sys.version"
   ]
  },
  {
   "cell_type": "code",
   "execution_count": 2,
   "metadata": {},
   "outputs": [
    {
     "name": "stdout",
     "output_type": "stream",
     "text": [
      "Date : 2020-10-13 07:43:33.423846\n"
     ]
    }
   ],
   "source": [
    "import datetime\n",
    "maintenant = datetime.datetime.now()\n",
    "print('Date :', maintenant)"
   ]
  },
  {
   "cell_type": "code",
   "execution_count": 3,
   "metadata": {},
   "outputs": [],
   "source": [
    "import pandas as pd\n",
    "import numpy as np\n",
    "import pickle\n",
    "import os\n",
    "\n",
    "import sklearn\n",
    "from sklearn.model_selection import train_test_split\n",
    "from sklearn.metrics import classification_report\n",
    "from sklearn.metrics import confusion_matrix\n",
    "from sklearn.metrics import accuracy_score\n",
    "from sklearn.metrics import roc_auc_score\n",
    "from sklearn.ensemble import RandomForestClassifier\n",
    "from sklearn.feature_selection import SelectFromModel"
   ]
  },
  {
   "cell_type": "code",
   "execution_count": 4,
   "metadata": {},
   "outputs": [
    {
     "name": "stdout",
     "output_type": "stream",
     "text": [
      "0.22.2.post1\n"
     ]
    }
   ],
   "source": [
    "import sklearn\n",
    "print(sklearn.__version__)"
   ]
  },
  {
   "cell_type": "markdown",
   "metadata": {},
   "source": [
    "## 2. Chargement des données"
   ]
  },
  {
   "cell_type": "markdown",
   "metadata": {},
   "source": [
    "Framingham Heart study dataset\n",
    "\n",
    "https://www.kaggle.com/amanajmera1/framingham-heart-study-dataset\n",
    "\n",
    "Attributes/columns:\n",
    "\n",
    "- male: 0 = Female; 1 = Male\n",
    "- age: Age at exam time\n",
    "- education: 1 = Some High School; 2 = High School or GED; 3 = Some College or Vocational School; 4 = college\n",
    "- currentSmoker: 0 = nonsmoker; 1 = smoker\n",
    "- cigsPerDay: number of cigarettes smoked per day (estimated average)\n",
    "- BPMeds: 0 = Not on Blood Pressure medications; 1 = Is on Blood Pressure medications\n",
    "- prevalentStroke\n",
    "- prevalentHyp\n",
    "- diabetes: 0 = No; 1 = Yes\n",
    "- totChol in mg/dL\n",
    "- sysBP in mmHg\n",
    "- diaBP in mmHg\n",
    "- BMI: Body Mass Index calculated as: Weight (kg) / Height(meter-squared)\n",
    "- heartRate: Beats/Min (Ventricular)\n",
    "- glucose in mg/dL\n",
    "\n",
    "- TenYearCHD - Did the person get heart disease in the 10 years study period?\n",
    "label; 0 = No for heart disease, 1 = Yes for heart disease;\n"
   ]
  },
  {
   "cell_type": "code",
   "execution_count": 5,
   "metadata": {},
   "outputs": [],
   "source": [
    "if os.path.exists(\"framingham.csv\"):\n",
    "  os.remove(\"framingham.csv\")"
   ]
  },
  {
   "cell_type": "code",
   "execution_count": 6,
   "metadata": {},
   "outputs": [
    {
     "name": "stdout",
     "output_type": "stream",
     "text": [
      "--2020-10-13 07:43:40--  https://raw.githubusercontent.com/retkowsky/WorkshopMLOps/master/framingham.csv\n",
      "Resolving raw.githubusercontent.com (raw.githubusercontent.com)... 151.101.36.133\n",
      "Connecting to raw.githubusercontent.com (raw.githubusercontent.com)|151.101.36.133|:443... connected.\n",
      "HTTP request sent, awaiting response... 200 OK\n",
      "Length: 191803 (187K) [text/plain]\n",
      "Saving to: ‘framingham.csv’\n",
      "\n",
      "framingham.csv      100%[===================>] 187.31K  --.-KB/s    in 0.01s   \n",
      "\n",
      "2020-10-13 07:43:40 (14.4 MB/s) - ‘framingham.csv’ saved [191803/191803]\n",
      "\n"
     ]
    }
   ],
   "source": [
    "!wget \"https://raw.githubusercontent.com/retkowsky/WorkshopMLOps/master/framingham.csv\""
   ]
  },
  {
   "cell_type": "code",
   "execution_count": 7,
   "metadata": {},
   "outputs": [],
   "source": [
    "df = pd.read_csv('framingham.csv')"
   ]
  },
  {
   "cell_type": "code",
   "execution_count": 8,
   "metadata": {},
   "outputs": [
    {
     "data": {
      "text/plain": [
       "Index(['male', 'age', 'education', 'currentSmoker', 'cigsPerDay', 'BPMeds',\n",
       "       'prevalentStroke', 'prevalentHyp', 'diabetes', 'totChol', 'sysBP',\n",
       "       'diaBP', 'BMI', 'heartRate', 'glucose', 'TenYearCHD'],\n",
       "      dtype='object')"
      ]
     },
     "execution_count": 8,
     "metadata": {},
     "output_type": "execute_result"
    }
   ],
   "source": [
    "df.columns"
   ]
  },
  {
   "cell_type": "code",
   "execution_count": 9,
   "metadata": {},
   "outputs": [
    {
     "data": {
      "text/html": [
       "<div>\n",
       "<style scoped>\n",
       "    .dataframe tbody tr th:only-of-type {\n",
       "        vertical-align: middle;\n",
       "    }\n",
       "\n",
       "    .dataframe tbody tr th {\n",
       "        vertical-align: top;\n",
       "    }\n",
       "\n",
       "    .dataframe thead th {\n",
       "        text-align: right;\n",
       "    }\n",
       "</style>\n",
       "<table border=\"1\" class=\"dataframe\">\n",
       "  <thead>\n",
       "    <tr style=\"text-align: right;\">\n",
       "      <th></th>\n",
       "      <th>male</th>\n",
       "      <th>age</th>\n",
       "      <th>education</th>\n",
       "      <th>currentSmoker</th>\n",
       "      <th>cigsPerDay</th>\n",
       "      <th>BPMeds</th>\n",
       "      <th>prevalentStroke</th>\n",
       "      <th>prevalentHyp</th>\n",
       "      <th>diabetes</th>\n",
       "      <th>totChol</th>\n",
       "      <th>sysBP</th>\n",
       "      <th>diaBP</th>\n",
       "      <th>BMI</th>\n",
       "      <th>heartRate</th>\n",
       "      <th>glucose</th>\n",
       "      <th>TenYearCHD</th>\n",
       "    </tr>\n",
       "  </thead>\n",
       "  <tbody>\n",
       "    <tr>\n",
       "      <th>0</th>\n",
       "      <td>1</td>\n",
       "      <td>39</td>\n",
       "      <td>4.0</td>\n",
       "      <td>0</td>\n",
       "      <td>0.0</td>\n",
       "      <td>0.0</td>\n",
       "      <td>0</td>\n",
       "      <td>0</td>\n",
       "      <td>0</td>\n",
       "      <td>195.0</td>\n",
       "      <td>106.0</td>\n",
       "      <td>70.0</td>\n",
       "      <td>26.97</td>\n",
       "      <td>80.0</td>\n",
       "      <td>77.0</td>\n",
       "      <td>0</td>\n",
       "    </tr>\n",
       "    <tr>\n",
       "      <th>1</th>\n",
       "      <td>0</td>\n",
       "      <td>46</td>\n",
       "      <td>2.0</td>\n",
       "      <td>0</td>\n",
       "      <td>0.0</td>\n",
       "      <td>0.0</td>\n",
       "      <td>0</td>\n",
       "      <td>0</td>\n",
       "      <td>0</td>\n",
       "      <td>250.0</td>\n",
       "      <td>121.0</td>\n",
       "      <td>81.0</td>\n",
       "      <td>28.73</td>\n",
       "      <td>95.0</td>\n",
       "      <td>76.0</td>\n",
       "      <td>0</td>\n",
       "    </tr>\n",
       "    <tr>\n",
       "      <th>2</th>\n",
       "      <td>1</td>\n",
       "      <td>48</td>\n",
       "      <td>1.0</td>\n",
       "      <td>1</td>\n",
       "      <td>20.0</td>\n",
       "      <td>0.0</td>\n",
       "      <td>0</td>\n",
       "      <td>0</td>\n",
       "      <td>0</td>\n",
       "      <td>245.0</td>\n",
       "      <td>127.5</td>\n",
       "      <td>80.0</td>\n",
       "      <td>25.34</td>\n",
       "      <td>75.0</td>\n",
       "      <td>70.0</td>\n",
       "      <td>0</td>\n",
       "    </tr>\n",
       "    <tr>\n",
       "      <th>3</th>\n",
       "      <td>0</td>\n",
       "      <td>61</td>\n",
       "      <td>3.0</td>\n",
       "      <td>1</td>\n",
       "      <td>30.0</td>\n",
       "      <td>0.0</td>\n",
       "      <td>0</td>\n",
       "      <td>1</td>\n",
       "      <td>0</td>\n",
       "      <td>225.0</td>\n",
       "      <td>150.0</td>\n",
       "      <td>95.0</td>\n",
       "      <td>28.58</td>\n",
       "      <td>65.0</td>\n",
       "      <td>103.0</td>\n",
       "      <td>1</td>\n",
       "    </tr>\n",
       "    <tr>\n",
       "      <th>4</th>\n",
       "      <td>0</td>\n",
       "      <td>46</td>\n",
       "      <td>3.0</td>\n",
       "      <td>1</td>\n",
       "      <td>23.0</td>\n",
       "      <td>0.0</td>\n",
       "      <td>0</td>\n",
       "      <td>0</td>\n",
       "      <td>0</td>\n",
       "      <td>285.0</td>\n",
       "      <td>130.0</td>\n",
       "      <td>84.0</td>\n",
       "      <td>23.10</td>\n",
       "      <td>85.0</td>\n",
       "      <td>85.0</td>\n",
       "      <td>0</td>\n",
       "    </tr>\n",
       "  </tbody>\n",
       "</table>\n",
       "</div>"
      ],
      "text/plain": [
       "   male  age  education  currentSmoker  cigsPerDay  BPMeds  prevalentStroke  \\\n",
       "0     1   39        4.0              0         0.0     0.0                0   \n",
       "1     0   46        2.0              0         0.0     0.0                0   \n",
       "2     1   48        1.0              1        20.0     0.0                0   \n",
       "3     0   61        3.0              1        30.0     0.0                0   \n",
       "4     0   46        3.0              1        23.0     0.0                0   \n",
       "\n",
       "   prevalentHyp  diabetes  totChol  sysBP  diaBP    BMI  heartRate  glucose  \\\n",
       "0             0         0    195.0  106.0   70.0  26.97       80.0     77.0   \n",
       "1             0         0    250.0  121.0   81.0  28.73       95.0     76.0   \n",
       "2             0         0    245.0  127.5   80.0  25.34       75.0     70.0   \n",
       "3             1         0    225.0  150.0   95.0  28.58       65.0    103.0   \n",
       "4             0         0    285.0  130.0   84.0  23.10       85.0     85.0   \n",
       "\n",
       "   TenYearCHD  \n",
       "0           0  \n",
       "1           0  \n",
       "2           0  \n",
       "3           1  \n",
       "4           0  "
      ]
     },
     "execution_count": 9,
     "metadata": {},
     "output_type": "execute_result"
    }
   ],
   "source": [
    "df.head()"
   ]
  },
  {
   "cell_type": "code",
   "execution_count": 10,
   "metadata": {},
   "outputs": [
    {
     "data": {
      "text/html": [
       "<div>\n",
       "<style scoped>\n",
       "    .dataframe tbody tr th:only-of-type {\n",
       "        vertical-align: middle;\n",
       "    }\n",
       "\n",
       "    .dataframe tbody tr th {\n",
       "        vertical-align: top;\n",
       "    }\n",
       "\n",
       "    .dataframe thead th {\n",
       "        text-align: right;\n",
       "    }\n",
       "</style>\n",
       "<table border=\"1\" class=\"dataframe\">\n",
       "  <thead>\n",
       "    <tr style=\"text-align: right;\">\n",
       "      <th></th>\n",
       "      <th>male</th>\n",
       "      <th>age</th>\n",
       "      <th>education</th>\n",
       "      <th>currentSmoker</th>\n",
       "      <th>cigsPerDay</th>\n",
       "      <th>BPMeds</th>\n",
       "      <th>prevalentStroke</th>\n",
       "      <th>prevalentHyp</th>\n",
       "      <th>diabetes</th>\n",
       "      <th>totChol</th>\n",
       "      <th>sysBP</th>\n",
       "      <th>diaBP</th>\n",
       "      <th>BMI</th>\n",
       "      <th>heartRate</th>\n",
       "      <th>glucose</th>\n",
       "      <th>TenYearCHD</th>\n",
       "    </tr>\n",
       "  </thead>\n",
       "  <tbody>\n",
       "    <tr>\n",
       "      <th>count</th>\n",
       "      <td>4240.000000</td>\n",
       "      <td>4240.000000</td>\n",
       "      <td>4135.000000</td>\n",
       "      <td>4240.000000</td>\n",
       "      <td>4211.000000</td>\n",
       "      <td>4187.000000</td>\n",
       "      <td>4240.000000</td>\n",
       "      <td>4240.000000</td>\n",
       "      <td>4240.000000</td>\n",
       "      <td>4190.000000</td>\n",
       "      <td>4240.000000</td>\n",
       "      <td>4240.000000</td>\n",
       "      <td>4221.000000</td>\n",
       "      <td>4239.000000</td>\n",
       "      <td>3852.000000</td>\n",
       "      <td>4240.000000</td>\n",
       "    </tr>\n",
       "    <tr>\n",
       "      <th>mean</th>\n",
       "      <td>0.429245</td>\n",
       "      <td>49.580189</td>\n",
       "      <td>1.979444</td>\n",
       "      <td>0.494104</td>\n",
       "      <td>9.005937</td>\n",
       "      <td>0.029615</td>\n",
       "      <td>0.005896</td>\n",
       "      <td>0.310613</td>\n",
       "      <td>0.025708</td>\n",
       "      <td>236.699523</td>\n",
       "      <td>132.354599</td>\n",
       "      <td>82.897759</td>\n",
       "      <td>25.800801</td>\n",
       "      <td>75.878981</td>\n",
       "      <td>81.963655</td>\n",
       "      <td>0.151887</td>\n",
       "    </tr>\n",
       "    <tr>\n",
       "      <th>std</th>\n",
       "      <td>0.495027</td>\n",
       "      <td>8.572942</td>\n",
       "      <td>1.019791</td>\n",
       "      <td>0.500024</td>\n",
       "      <td>11.922462</td>\n",
       "      <td>0.169544</td>\n",
       "      <td>0.076569</td>\n",
       "      <td>0.462799</td>\n",
       "      <td>0.158280</td>\n",
       "      <td>44.591284</td>\n",
       "      <td>22.033300</td>\n",
       "      <td>11.910394</td>\n",
       "      <td>4.079840</td>\n",
       "      <td>12.025348</td>\n",
       "      <td>23.954335</td>\n",
       "      <td>0.358953</td>\n",
       "    </tr>\n",
       "    <tr>\n",
       "      <th>min</th>\n",
       "      <td>0.000000</td>\n",
       "      <td>32.000000</td>\n",
       "      <td>1.000000</td>\n",
       "      <td>0.000000</td>\n",
       "      <td>0.000000</td>\n",
       "      <td>0.000000</td>\n",
       "      <td>0.000000</td>\n",
       "      <td>0.000000</td>\n",
       "      <td>0.000000</td>\n",
       "      <td>107.000000</td>\n",
       "      <td>83.500000</td>\n",
       "      <td>48.000000</td>\n",
       "      <td>15.540000</td>\n",
       "      <td>44.000000</td>\n",
       "      <td>40.000000</td>\n",
       "      <td>0.000000</td>\n",
       "    </tr>\n",
       "    <tr>\n",
       "      <th>25%</th>\n",
       "      <td>0.000000</td>\n",
       "      <td>42.000000</td>\n",
       "      <td>1.000000</td>\n",
       "      <td>0.000000</td>\n",
       "      <td>0.000000</td>\n",
       "      <td>0.000000</td>\n",
       "      <td>0.000000</td>\n",
       "      <td>0.000000</td>\n",
       "      <td>0.000000</td>\n",
       "      <td>206.000000</td>\n",
       "      <td>117.000000</td>\n",
       "      <td>75.000000</td>\n",
       "      <td>23.070000</td>\n",
       "      <td>68.000000</td>\n",
       "      <td>71.000000</td>\n",
       "      <td>0.000000</td>\n",
       "    </tr>\n",
       "    <tr>\n",
       "      <th>50%</th>\n",
       "      <td>0.000000</td>\n",
       "      <td>49.000000</td>\n",
       "      <td>2.000000</td>\n",
       "      <td>0.000000</td>\n",
       "      <td>0.000000</td>\n",
       "      <td>0.000000</td>\n",
       "      <td>0.000000</td>\n",
       "      <td>0.000000</td>\n",
       "      <td>0.000000</td>\n",
       "      <td>234.000000</td>\n",
       "      <td>128.000000</td>\n",
       "      <td>82.000000</td>\n",
       "      <td>25.400000</td>\n",
       "      <td>75.000000</td>\n",
       "      <td>78.000000</td>\n",
       "      <td>0.000000</td>\n",
       "    </tr>\n",
       "    <tr>\n",
       "      <th>75%</th>\n",
       "      <td>1.000000</td>\n",
       "      <td>56.000000</td>\n",
       "      <td>3.000000</td>\n",
       "      <td>1.000000</td>\n",
       "      <td>20.000000</td>\n",
       "      <td>0.000000</td>\n",
       "      <td>0.000000</td>\n",
       "      <td>1.000000</td>\n",
       "      <td>0.000000</td>\n",
       "      <td>263.000000</td>\n",
       "      <td>144.000000</td>\n",
       "      <td>90.000000</td>\n",
       "      <td>28.040000</td>\n",
       "      <td>83.000000</td>\n",
       "      <td>87.000000</td>\n",
       "      <td>0.000000</td>\n",
       "    </tr>\n",
       "    <tr>\n",
       "      <th>max</th>\n",
       "      <td>1.000000</td>\n",
       "      <td>70.000000</td>\n",
       "      <td>4.000000</td>\n",
       "      <td>1.000000</td>\n",
       "      <td>70.000000</td>\n",
       "      <td>1.000000</td>\n",
       "      <td>1.000000</td>\n",
       "      <td>1.000000</td>\n",
       "      <td>1.000000</td>\n",
       "      <td>696.000000</td>\n",
       "      <td>295.000000</td>\n",
       "      <td>142.500000</td>\n",
       "      <td>56.800000</td>\n",
       "      <td>143.000000</td>\n",
       "      <td>394.000000</td>\n",
       "      <td>1.000000</td>\n",
       "    </tr>\n",
       "  </tbody>\n",
       "</table>\n",
       "</div>"
      ],
      "text/plain": [
       "              male          age    education  currentSmoker   cigsPerDay  \\\n",
       "count  4240.000000  4240.000000  4135.000000    4240.000000  4211.000000   \n",
       "mean      0.429245    49.580189     1.979444       0.494104     9.005937   \n",
       "std       0.495027     8.572942     1.019791       0.500024    11.922462   \n",
       "min       0.000000    32.000000     1.000000       0.000000     0.000000   \n",
       "25%       0.000000    42.000000     1.000000       0.000000     0.000000   \n",
       "50%       0.000000    49.000000     2.000000       0.000000     0.000000   \n",
       "75%       1.000000    56.000000     3.000000       1.000000    20.000000   \n",
       "max       1.000000    70.000000     4.000000       1.000000    70.000000   \n",
       "\n",
       "            BPMeds  prevalentStroke  prevalentHyp     diabetes      totChol  \\\n",
       "count  4187.000000      4240.000000   4240.000000  4240.000000  4190.000000   \n",
       "mean      0.029615         0.005896      0.310613     0.025708   236.699523   \n",
       "std       0.169544         0.076569      0.462799     0.158280    44.591284   \n",
       "min       0.000000         0.000000      0.000000     0.000000   107.000000   \n",
       "25%       0.000000         0.000000      0.000000     0.000000   206.000000   \n",
       "50%       0.000000         0.000000      0.000000     0.000000   234.000000   \n",
       "75%       0.000000         0.000000      1.000000     0.000000   263.000000   \n",
       "max       1.000000         1.000000      1.000000     1.000000   696.000000   \n",
       "\n",
       "             sysBP        diaBP          BMI    heartRate      glucose  \\\n",
       "count  4240.000000  4240.000000  4221.000000  4239.000000  3852.000000   \n",
       "mean    132.354599    82.897759    25.800801    75.878981    81.963655   \n",
       "std      22.033300    11.910394     4.079840    12.025348    23.954335   \n",
       "min      83.500000    48.000000    15.540000    44.000000    40.000000   \n",
       "25%     117.000000    75.000000    23.070000    68.000000    71.000000   \n",
       "50%     128.000000    82.000000    25.400000    75.000000    78.000000   \n",
       "75%     144.000000    90.000000    28.040000    83.000000    87.000000   \n",
       "max     295.000000   142.500000    56.800000   143.000000   394.000000   \n",
       "\n",
       "        TenYearCHD  \n",
       "count  4240.000000  \n",
       "mean      0.151887  \n",
       "std       0.358953  \n",
       "min       0.000000  \n",
       "25%       0.000000  \n",
       "50%       0.000000  \n",
       "75%       0.000000  \n",
       "max       1.000000  "
      ]
     },
     "execution_count": 10,
     "metadata": {},
     "output_type": "execute_result"
    }
   ],
   "source": [
    "df.describe()"
   ]
  },
  {
   "cell_type": "code",
   "execution_count": 11,
   "metadata": {},
   "outputs": [
    {
     "data": {
      "text/html": [
       "<div>\n",
       "<style scoped>\n",
       "    .dataframe tbody tr th:only-of-type {\n",
       "        vertical-align: middle;\n",
       "    }\n",
       "\n",
       "    .dataframe tbody tr th {\n",
       "        vertical-align: top;\n",
       "    }\n",
       "\n",
       "    .dataframe thead th {\n",
       "        text-align: right;\n",
       "    }\n",
       "</style>\n",
       "<table border=\"1\" class=\"dataframe\">\n",
       "  <thead>\n",
       "    <tr style=\"text-align: right;\">\n",
       "      <th></th>\n",
       "      <th>male</th>\n",
       "      <th>age</th>\n",
       "      <th>education</th>\n",
       "      <th>currentSmoker</th>\n",
       "      <th>cigsPerDay</th>\n",
       "      <th>BPMeds</th>\n",
       "      <th>prevalentStroke</th>\n",
       "      <th>prevalentHyp</th>\n",
       "      <th>diabetes</th>\n",
       "      <th>totChol</th>\n",
       "      <th>sysBP</th>\n",
       "      <th>diaBP</th>\n",
       "      <th>BMI</th>\n",
       "      <th>heartRate</th>\n",
       "      <th>glucose</th>\n",
       "      <th>TenYearCHD</th>\n",
       "    </tr>\n",
       "  </thead>\n",
       "  <tbody>\n",
       "    <tr>\n",
       "      <th>male</th>\n",
       "      <td>1.000000</td>\n",
       "      <td>-0.029014</td>\n",
       "      <td>0.017415</td>\n",
       "      <td>0.197026</td>\n",
       "      <td>0.317143</td>\n",
       "      <td>-0.052504</td>\n",
       "      <td>-0.004550</td>\n",
       "      <td>0.005853</td>\n",
       "      <td>0.015693</td>\n",
       "      <td>-0.070413</td>\n",
       "      <td>-0.035879</td>\n",
       "      <td>0.058199</td>\n",
       "      <td>0.081871</td>\n",
       "      <td>-0.116932</td>\n",
       "      <td>0.005979</td>\n",
       "      <td>0.088374</td>\n",
       "    </tr>\n",
       "    <tr>\n",
       "      <th>age</th>\n",
       "      <td>-0.029014</td>\n",
       "      <td>1.000000</td>\n",
       "      <td>-0.166356</td>\n",
       "      <td>-0.213662</td>\n",
       "      <td>-0.192959</td>\n",
       "      <td>0.123052</td>\n",
       "      <td>0.057679</td>\n",
       "      <td>0.306799</td>\n",
       "      <td>0.101314</td>\n",
       "      <td>0.262554</td>\n",
       "      <td>0.394053</td>\n",
       "      <td>0.205586</td>\n",
       "      <td>0.136096</td>\n",
       "      <td>-0.012843</td>\n",
       "      <td>0.122356</td>\n",
       "      <td>0.225408</td>\n",
       "    </tr>\n",
       "    <tr>\n",
       "      <th>education</th>\n",
       "      <td>0.017415</td>\n",
       "      <td>-0.166356</td>\n",
       "      <td>1.000000</td>\n",
       "      <td>0.018528</td>\n",
       "      <td>0.008323</td>\n",
       "      <td>-0.010898</td>\n",
       "      <td>-0.035142</td>\n",
       "      <td>-0.081726</td>\n",
       "      <td>-0.038749</td>\n",
       "      <td>-0.023613</td>\n",
       "      <td>-0.129496</td>\n",
       "      <td>-0.061919</td>\n",
       "      <td>-0.137747</td>\n",
       "      <td>-0.054182</td>\n",
       "      <td>-0.035843</td>\n",
       "      <td>-0.054248</td>\n",
       "    </tr>\n",
       "    <tr>\n",
       "      <th>currentSmoker</th>\n",
       "      <td>0.197026</td>\n",
       "      <td>-0.213662</td>\n",
       "      <td>0.018528</td>\n",
       "      <td>1.000000</td>\n",
       "      <td>0.769774</td>\n",
       "      <td>-0.048927</td>\n",
       "      <td>-0.032980</td>\n",
       "      <td>-0.103710</td>\n",
       "      <td>-0.044285</td>\n",
       "      <td>-0.046488</td>\n",
       "      <td>-0.130281</td>\n",
       "      <td>-0.107933</td>\n",
       "      <td>-0.167857</td>\n",
       "      <td>0.062686</td>\n",
       "      <td>-0.056726</td>\n",
       "      <td>0.019448</td>\n",
       "    </tr>\n",
       "    <tr>\n",
       "      <th>cigsPerDay</th>\n",
       "      <td>0.317143</td>\n",
       "      <td>-0.192959</td>\n",
       "      <td>0.008323</td>\n",
       "      <td>0.769774</td>\n",
       "      <td>1.000000</td>\n",
       "      <td>-0.046155</td>\n",
       "      <td>-0.032711</td>\n",
       "      <td>-0.066645</td>\n",
       "      <td>-0.037089</td>\n",
       "      <td>-0.026479</td>\n",
       "      <td>-0.088797</td>\n",
       "      <td>-0.056715</td>\n",
       "      <td>-0.093293</td>\n",
       "      <td>0.075564</td>\n",
       "      <td>-0.058886</td>\n",
       "      <td>0.057755</td>\n",
       "    </tr>\n",
       "    <tr>\n",
       "      <th>BPMeds</th>\n",
       "      <td>-0.052504</td>\n",
       "      <td>0.123052</td>\n",
       "      <td>-0.010898</td>\n",
       "      <td>-0.048927</td>\n",
       "      <td>-0.046155</td>\n",
       "      <td>1.000000</td>\n",
       "      <td>0.117370</td>\n",
       "      <td>0.261067</td>\n",
       "      <td>0.052060</td>\n",
       "      <td>0.080623</td>\n",
       "      <td>0.254194</td>\n",
       "      <td>0.194122</td>\n",
       "      <td>0.100702</td>\n",
       "      <td>0.015230</td>\n",
       "      <td>0.051197</td>\n",
       "      <td>0.087519</td>\n",
       "    </tr>\n",
       "    <tr>\n",
       "      <th>prevalentStroke</th>\n",
       "      <td>-0.004550</td>\n",
       "      <td>0.057679</td>\n",
       "      <td>-0.035142</td>\n",
       "      <td>-0.032980</td>\n",
       "      <td>-0.032711</td>\n",
       "      <td>0.117370</td>\n",
       "      <td>1.000000</td>\n",
       "      <td>0.074791</td>\n",
       "      <td>0.006955</td>\n",
       "      <td>0.000105</td>\n",
       "      <td>0.057000</td>\n",
       "      <td>0.045153</td>\n",
       "      <td>0.025909</td>\n",
       "      <td>-0.017674</td>\n",
       "      <td>0.018440</td>\n",
       "      <td>0.061823</td>\n",
       "    </tr>\n",
       "    <tr>\n",
       "      <th>prevalentHyp</th>\n",
       "      <td>0.005853</td>\n",
       "      <td>0.306799</td>\n",
       "      <td>-0.081726</td>\n",
       "      <td>-0.103710</td>\n",
       "      <td>-0.066645</td>\n",
       "      <td>0.261067</td>\n",
       "      <td>0.074791</td>\n",
       "      <td>1.000000</td>\n",
       "      <td>0.077752</td>\n",
       "      <td>0.163632</td>\n",
       "      <td>0.696656</td>\n",
       "      <td>0.615840</td>\n",
       "      <td>0.301344</td>\n",
       "      <td>0.146815</td>\n",
       "      <td>0.086656</td>\n",
       "      <td>0.177458</td>\n",
       "    </tr>\n",
       "    <tr>\n",
       "      <th>diabetes</th>\n",
       "      <td>0.015693</td>\n",
       "      <td>0.101314</td>\n",
       "      <td>-0.038749</td>\n",
       "      <td>-0.044285</td>\n",
       "      <td>-0.037089</td>\n",
       "      <td>0.052060</td>\n",
       "      <td>0.006955</td>\n",
       "      <td>0.077752</td>\n",
       "      <td>1.000000</td>\n",
       "      <td>0.040348</td>\n",
       "      <td>0.111265</td>\n",
       "      <td>0.050260</td>\n",
       "      <td>0.087068</td>\n",
       "      <td>0.048986</td>\n",
       "      <td>0.617630</td>\n",
       "      <td>0.097344</td>\n",
       "    </tr>\n",
       "    <tr>\n",
       "      <th>totChol</th>\n",
       "      <td>-0.070413</td>\n",
       "      <td>0.262554</td>\n",
       "      <td>-0.023613</td>\n",
       "      <td>-0.046488</td>\n",
       "      <td>-0.026479</td>\n",
       "      <td>0.080623</td>\n",
       "      <td>0.000105</td>\n",
       "      <td>0.163632</td>\n",
       "      <td>0.040348</td>\n",
       "      <td>1.000000</td>\n",
       "      <td>0.208734</td>\n",
       "      <td>0.164698</td>\n",
       "      <td>0.115992</td>\n",
       "      <td>0.091127</td>\n",
       "      <td>0.046538</td>\n",
       "      <td>0.082369</td>\n",
       "    </tr>\n",
       "    <tr>\n",
       "      <th>sysBP</th>\n",
       "      <td>-0.035879</td>\n",
       "      <td>0.394053</td>\n",
       "      <td>-0.129496</td>\n",
       "      <td>-0.130281</td>\n",
       "      <td>-0.088797</td>\n",
       "      <td>0.254194</td>\n",
       "      <td>0.057000</td>\n",
       "      <td>0.696656</td>\n",
       "      <td>0.111265</td>\n",
       "      <td>0.208734</td>\n",
       "      <td>1.000000</td>\n",
       "      <td>0.783952</td>\n",
       "      <td>0.326906</td>\n",
       "      <td>0.182155</td>\n",
       "      <td>0.140573</td>\n",
       "      <td>0.216374</td>\n",
       "    </tr>\n",
       "    <tr>\n",
       "      <th>diaBP</th>\n",
       "      <td>0.058199</td>\n",
       "      <td>0.205586</td>\n",
       "      <td>-0.061919</td>\n",
       "      <td>-0.107933</td>\n",
       "      <td>-0.056715</td>\n",
       "      <td>0.194122</td>\n",
       "      <td>0.045153</td>\n",
       "      <td>0.615840</td>\n",
       "      <td>0.050260</td>\n",
       "      <td>0.164698</td>\n",
       "      <td>0.783952</td>\n",
       "      <td>1.000000</td>\n",
       "      <td>0.377360</td>\n",
       "      <td>0.181021</td>\n",
       "      <td>0.061075</td>\n",
       "      <td>0.145112</td>\n",
       "    </tr>\n",
       "    <tr>\n",
       "      <th>BMI</th>\n",
       "      <td>0.081871</td>\n",
       "      <td>0.136096</td>\n",
       "      <td>-0.137747</td>\n",
       "      <td>-0.167857</td>\n",
       "      <td>-0.093293</td>\n",
       "      <td>0.100702</td>\n",
       "      <td>0.025909</td>\n",
       "      <td>0.301344</td>\n",
       "      <td>0.087068</td>\n",
       "      <td>0.115992</td>\n",
       "      <td>0.326906</td>\n",
       "      <td>0.377360</td>\n",
       "      <td>1.000000</td>\n",
       "      <td>0.067451</td>\n",
       "      <td>0.087389</td>\n",
       "      <td>0.075300</td>\n",
       "    </tr>\n",
       "    <tr>\n",
       "      <th>heartRate</th>\n",
       "      <td>-0.116932</td>\n",
       "      <td>-0.012843</td>\n",
       "      <td>-0.054182</td>\n",
       "      <td>0.062686</td>\n",
       "      <td>0.075564</td>\n",
       "      <td>0.015230</td>\n",
       "      <td>-0.017674</td>\n",
       "      <td>0.146815</td>\n",
       "      <td>0.048986</td>\n",
       "      <td>0.091127</td>\n",
       "      <td>0.182155</td>\n",
       "      <td>0.181021</td>\n",
       "      <td>0.067451</td>\n",
       "      <td>1.000000</td>\n",
       "      <td>0.094546</td>\n",
       "      <td>0.022907</td>\n",
       "    </tr>\n",
       "    <tr>\n",
       "      <th>glucose</th>\n",
       "      <td>0.005979</td>\n",
       "      <td>0.122356</td>\n",
       "      <td>-0.035843</td>\n",
       "      <td>-0.056726</td>\n",
       "      <td>-0.058886</td>\n",
       "      <td>0.051197</td>\n",
       "      <td>0.018440</td>\n",
       "      <td>0.086656</td>\n",
       "      <td>0.617630</td>\n",
       "      <td>0.046538</td>\n",
       "      <td>0.140573</td>\n",
       "      <td>0.061075</td>\n",
       "      <td>0.087389</td>\n",
       "      <td>0.094546</td>\n",
       "      <td>1.000000</td>\n",
       "      <td>0.125590</td>\n",
       "    </tr>\n",
       "    <tr>\n",
       "      <th>TenYearCHD</th>\n",
       "      <td>0.088374</td>\n",
       "      <td>0.225408</td>\n",
       "      <td>-0.054248</td>\n",
       "      <td>0.019448</td>\n",
       "      <td>0.057755</td>\n",
       "      <td>0.087519</td>\n",
       "      <td>0.061823</td>\n",
       "      <td>0.177458</td>\n",
       "      <td>0.097344</td>\n",
       "      <td>0.082369</td>\n",
       "      <td>0.216374</td>\n",
       "      <td>0.145112</td>\n",
       "      <td>0.075300</td>\n",
       "      <td>0.022907</td>\n",
       "      <td>0.125590</td>\n",
       "      <td>1.000000</td>\n",
       "    </tr>\n",
       "  </tbody>\n",
       "</table>\n",
       "</div>"
      ],
      "text/plain": [
       "                     male       age  education  currentSmoker  cigsPerDay  \\\n",
       "male             1.000000 -0.029014   0.017415       0.197026    0.317143   \n",
       "age             -0.029014  1.000000  -0.166356      -0.213662   -0.192959   \n",
       "education        0.017415 -0.166356   1.000000       0.018528    0.008323   \n",
       "currentSmoker    0.197026 -0.213662   0.018528       1.000000    0.769774   \n",
       "cigsPerDay       0.317143 -0.192959   0.008323       0.769774    1.000000   \n",
       "BPMeds          -0.052504  0.123052  -0.010898      -0.048927   -0.046155   \n",
       "prevalentStroke -0.004550  0.057679  -0.035142      -0.032980   -0.032711   \n",
       "prevalentHyp     0.005853  0.306799  -0.081726      -0.103710   -0.066645   \n",
       "diabetes         0.015693  0.101314  -0.038749      -0.044285   -0.037089   \n",
       "totChol         -0.070413  0.262554  -0.023613      -0.046488   -0.026479   \n",
       "sysBP           -0.035879  0.394053  -0.129496      -0.130281   -0.088797   \n",
       "diaBP            0.058199  0.205586  -0.061919      -0.107933   -0.056715   \n",
       "BMI              0.081871  0.136096  -0.137747      -0.167857   -0.093293   \n",
       "heartRate       -0.116932 -0.012843  -0.054182       0.062686    0.075564   \n",
       "glucose          0.005979  0.122356  -0.035843      -0.056726   -0.058886   \n",
       "TenYearCHD       0.088374  0.225408  -0.054248       0.019448    0.057755   \n",
       "\n",
       "                   BPMeds  prevalentStroke  prevalentHyp  diabetes   totChol  \\\n",
       "male            -0.052504        -0.004550      0.005853  0.015693 -0.070413   \n",
       "age              0.123052         0.057679      0.306799  0.101314  0.262554   \n",
       "education       -0.010898        -0.035142     -0.081726 -0.038749 -0.023613   \n",
       "currentSmoker   -0.048927        -0.032980     -0.103710 -0.044285 -0.046488   \n",
       "cigsPerDay      -0.046155        -0.032711     -0.066645 -0.037089 -0.026479   \n",
       "BPMeds           1.000000         0.117370      0.261067  0.052060  0.080623   \n",
       "prevalentStroke  0.117370         1.000000      0.074791  0.006955  0.000105   \n",
       "prevalentHyp     0.261067         0.074791      1.000000  0.077752  0.163632   \n",
       "diabetes         0.052060         0.006955      0.077752  1.000000  0.040348   \n",
       "totChol          0.080623         0.000105      0.163632  0.040348  1.000000   \n",
       "sysBP            0.254194         0.057000      0.696656  0.111265  0.208734   \n",
       "diaBP            0.194122         0.045153      0.615840  0.050260  0.164698   \n",
       "BMI              0.100702         0.025909      0.301344  0.087068  0.115992   \n",
       "heartRate        0.015230        -0.017674      0.146815  0.048986  0.091127   \n",
       "glucose          0.051197         0.018440      0.086656  0.617630  0.046538   \n",
       "TenYearCHD       0.087519         0.061823      0.177458  0.097344  0.082369   \n",
       "\n",
       "                    sysBP     diaBP       BMI  heartRate   glucose  TenYearCHD  \n",
       "male            -0.035879  0.058199  0.081871  -0.116932  0.005979    0.088374  \n",
       "age              0.394053  0.205586  0.136096  -0.012843  0.122356    0.225408  \n",
       "education       -0.129496 -0.061919 -0.137747  -0.054182 -0.035843   -0.054248  \n",
       "currentSmoker   -0.130281 -0.107933 -0.167857   0.062686 -0.056726    0.019448  \n",
       "cigsPerDay      -0.088797 -0.056715 -0.093293   0.075564 -0.058886    0.057755  \n",
       "BPMeds           0.254194  0.194122  0.100702   0.015230  0.051197    0.087519  \n",
       "prevalentStroke  0.057000  0.045153  0.025909  -0.017674  0.018440    0.061823  \n",
       "prevalentHyp     0.696656  0.615840  0.301344   0.146815  0.086656    0.177458  \n",
       "diabetes         0.111265  0.050260  0.087068   0.048986  0.617630    0.097344  \n",
       "totChol          0.208734  0.164698  0.115992   0.091127  0.046538    0.082369  \n",
       "sysBP            1.000000  0.783952  0.326906   0.182155  0.140573    0.216374  \n",
       "diaBP            0.783952  1.000000  0.377360   0.181021  0.061075    0.145112  \n",
       "BMI              0.326906  0.377360  1.000000   0.067451  0.087389    0.075300  \n",
       "heartRate        0.182155  0.181021  0.067451   1.000000  0.094546    0.022907  \n",
       "glucose          0.140573  0.061075  0.087389   0.094546  1.000000    0.125590  \n",
       "TenYearCHD       0.216374  0.145112  0.075300   0.022907  0.125590    1.000000  "
      ]
     },
     "execution_count": 11,
     "metadata": {},
     "output_type": "execute_result"
    }
   ],
   "source": [
    "df.corr()"
   ]
  },
  {
   "cell_type": "code",
   "execution_count": 12,
   "metadata": {},
   "outputs": [
    {
     "data": {
      "text/plain": [
       "(4240, 16)"
      ]
     },
     "execution_count": 12,
     "metadata": {},
     "output_type": "execute_result"
    }
   ],
   "source": [
    "df.shape"
   ]
  },
  {
   "cell_type": "markdown",
   "metadata": {},
   "source": [
    "Préparation des données"
   ]
  },
  {
   "cell_type": "code",
   "execution_count": 13,
   "metadata": {},
   "outputs": [],
   "source": [
    "smoke = (df['currentSmoker']==1)\n",
    "df.loc[smoke,'cigsPerDay'] = df.loc[smoke,'cigsPerDay'].fillna(df.loc[smoke,'cigsPerDay'].mean())"
   ]
  },
  {
   "cell_type": "code",
   "execution_count": 14,
   "metadata": {},
   "outputs": [],
   "source": [
    "df['BPMeds'].fillna(0, inplace = True)\n",
    "df['glucose'].fillna(df.glucose.mean(), inplace = True)\n",
    "df['totChol'].fillna(df.totChol.mean(), inplace = True)\n",
    "df['education'].fillna(1, inplace = True)\n",
    "df['BMI'].fillna(df.BMI.mean(), inplace = True)\n",
    "df['heartRate'].fillna(df.heartRate.mean(), inplace = True)"
   ]
  },
  {
   "cell_type": "markdown",
   "metadata": {},
   "source": [
    "## 3. Modélisation Random Forest"
   ]
  },
  {
   "cell_type": "code",
   "execution_count": 15,
   "metadata": {},
   "outputs": [],
   "source": [
    "features = df.iloc[:,:-1]\n",
    "result = df.iloc[:,-1]"
   ]
  },
  {
   "cell_type": "markdown",
   "metadata": {},
   "source": [
    "Partitionnement des données"
   ]
  },
  {
   "cell_type": "code",
   "execution_count": 16,
   "metadata": {},
   "outputs": [],
   "source": [
    "X_train, X_test, y_train, y_test = train_test_split(features, result, test_size = 0.2, random_state = 14)"
   ]
  },
  {
   "cell_type": "markdown",
   "metadata": {},
   "source": [
    "Random Forest"
   ]
  },
  {
   "cell_type": "code",
   "execution_count": 17,
   "metadata": {},
   "outputs": [
    {
     "name": "stdout",
     "output_type": "stream",
     "text": [
      "CPU times: user 209 ms, sys: 0 ns, total: 209 ms\n",
      "Wall time: 216 ms\n"
     ]
    },
    {
     "data": {
      "text/plain": [
       "RandomForestClassifier(bootstrap=True, ccp_alpha=0.0, class_weight=None,\n",
       "                       criterion='gini', max_depth=2, max_features='auto',\n",
       "                       max_leaf_nodes=None, max_samples=None,\n",
       "                       min_impurity_decrease=0.0, min_impurity_split=None,\n",
       "                       min_samples_leaf=1, min_samples_split=2,\n",
       "                       min_weight_fraction_leaf=0.0, n_estimators=100,\n",
       "                       n_jobs=None, oob_score=False, random_state=0, verbose=0,\n",
       "                       warm_start=False)"
      ]
     },
     "execution_count": 17,
     "metadata": {},
     "output_type": "execute_result"
    }
   ],
   "source": [
    "%%time\n",
    "clf = RandomForestClassifier(n_estimators=100, max_depth=2, random_state=0)\n",
    "clf.fit(X_train, y_train)"
   ]
  },
  {
   "cell_type": "code",
   "execution_count": 18,
   "metadata": {},
   "outputs": [
    {
     "data": {
      "text/plain": [
       "SelectFromModel(estimator=RandomForestClassifier(bootstrap=True, ccp_alpha=0.0,\n",
       "                                                 class_weight=None,\n",
       "                                                 criterion='gini', max_depth=2,\n",
       "                                                 max_features='auto',\n",
       "                                                 max_leaf_nodes=None,\n",
       "                                                 max_samples=None,\n",
       "                                                 min_impurity_decrease=0.0,\n",
       "                                                 min_impurity_split=None,\n",
       "                                                 min_samples_leaf=1,\n",
       "                                                 min_samples_split=2,\n",
       "                                                 min_weight_fraction_leaf=0.0,\n",
       "                                                 n_estimators=100, n_jobs=None,\n",
       "                                                 oob_score=False,\n",
       "                                                 random_state=0, verbose=0,\n",
       "                                                 warm_start=False),\n",
       "                max_features=None, norm_order=1, prefit=False, threshold=0.12)"
      ]
     },
     "execution_count": 18,
     "metadata": {},
     "output_type": "execute_result"
    }
   ],
   "source": [
    "# Create a selector object that will use the random forest classifier to identify\n",
    "# features that have an importance of more than 0.12\n",
    "sfm = SelectFromModel(clf, threshold=0.12)\n",
    "\n",
    "sfm.fit(X_train, y_train)"
   ]
  },
  {
   "cell_type": "code",
   "execution_count": 19,
   "metadata": {},
   "outputs": [
    {
     "name": "stdout",
     "output_type": "stream",
     "text": [
      "age\n",
      "prevalentHyp\n",
      "sysBP\n",
      "glucose\n"
     ]
    }
   ],
   "source": [
    "feat_labels = list(features.columns.values)\n",
    "for feature_list_index in sfm.get_support(indices=True):\n",
    "    print(feat_labels[feature_list_index])"
   ]
  },
  {
   "cell_type": "code",
   "execution_count": 20,
   "metadata": {},
   "outputs": [
    {
     "name": "stdout",
     "output_type": "stream",
     "text": [
      "Feature ranking:\n",
      "1. feature 1 (0.242214)\n",
      "2. feature 10 (0.200736)\n",
      "3. feature 14 (0.152858)\n",
      "4. feature 7 (0.139117)\n",
      "5. feature 11 (0.105004)\n",
      "6. feature 0 (0.034898)\n",
      "7. feature 12 (0.034277)\n",
      "8. feature 4 (0.022181)\n",
      "9. feature 5 (0.016595)\n",
      "10. feature 8 (0.015724)\n",
      "11. feature 9 (0.014800)\n",
      "12. feature 13 (0.009745)\n",
      "13. feature 2 (0.007321)\n",
      "14. feature 6 (0.004530)\n",
      "15. feature 3 (0.000000)\n"
     ]
    }
   ],
   "source": [
    "importances = clf.feature_importances_\n",
    "std = np.std([tree.feature_importances_ for tree in clf.estimators_],\n",
    "             axis=0)\n",
    "indices = np.argsort(importances)[::-1]\n",
    "\n",
    "print(\"Feature ranking:\")\n",
    "for f in range(X_train.shape[1]):\n",
    "    print(\"%d. feature %d (%f)\" % (f + 1, indices[f], importances[indices[f]]))"
   ]
  },
  {
   "cell_type": "code",
   "execution_count": 21,
   "metadata": {},
   "outputs": [],
   "source": [
    "# With only imporant features. Can check X_important_train.shape[1]\n",
    "X_important_train = sfm.transform(X_train)\n",
    "X_important_test = sfm.transform(X_test)"
   ]
  },
  {
   "cell_type": "code",
   "execution_count": 22,
   "metadata": {},
   "outputs": [
    {
     "name": "stdout",
     "output_type": "stream",
     "text": [
      "CPU times: user 51.3 s, sys: 5.7 s, total: 57 s\n",
      "Wall time: 25.8 s\n"
     ]
    },
    {
     "data": {
      "text/plain": [
       "RandomForestClassifier(bootstrap=True, ccp_alpha=0.0, class_weight=None,\n",
       "                       criterion='gini', max_depth=None, max_features='auto',\n",
       "                       max_leaf_nodes=None, max_samples=None,\n",
       "                       min_impurity_decrease=0.0, min_impurity_split=None,\n",
       "                       min_samples_leaf=1, min_samples_split=2,\n",
       "                       min_weight_fraction_leaf=0.0, n_estimators=10000,\n",
       "                       n_jobs=-1, oob_score=False, random_state=0, verbose=0,\n",
       "                       warm_start=False)"
      ]
     },
     "execution_count": 22,
     "metadata": {},
     "output_type": "execute_result"
    }
   ],
   "source": [
    "%%time\n",
    "clf_important = RandomForestClassifier(n_estimators=10000, random_state=0, n_jobs=-1)\n",
    "clf_important.fit(X_important_train, y_train)"
   ]
  },
  {
   "cell_type": "markdown",
   "metadata": {},
   "source": [
    "## 4. Métriques du modèle"
   ]
  },
  {
   "cell_type": "code",
   "execution_count": 23,
   "metadata": {},
   "outputs": [
    {
     "name": "stdout",
     "output_type": "stream",
     "text": [
      "Rapport de classification :\n",
      "              precision    recall  f1-score   support\n",
      "\n",
      "           0       0.86      0.95      0.91       724\n",
      "           1       0.27      0.10      0.14       124\n",
      "\n",
      "    accuracy                           0.83       848\n",
      "   macro avg       0.56      0.53      0.52       848\n",
      "weighted avg       0.77      0.83      0.79       848\n",
      "\n",
      "\n",
      "Matrice de confusion :\n",
      "[[691  33]\n",
      " [112  12]]\n",
      "\n",
      "ROC = 0.6730306540723578\n",
      "\n",
      "Accuracy score = 0.8290094339622641\n"
     ]
    }
   ],
   "source": [
    "predictions_y_4 = clf_important.predict(X_important_test)\n",
    "\n",
    "print(\"Rapport de classification :\")\n",
    "print(classification_report(y_test, predictions_y_4))\n",
    "print(\"\")\n",
    "\n",
    "print(\"Matrice de confusion :\")\n",
    "print(confusion_matrix(y_test, predictions_y_4))\n",
    "print(\"\")\n",
    "\n",
    "# Under ROC curve\n",
    "prob_y_4 = clf_important.predict_proba(X_important_test)\n",
    "prob_y_4 = [p[1] for p in prob_y_4]\n",
    "print(\"ROC =\", roc_auc_score(y_test, prob_y_4))\n",
    "print(\"\")\n",
    "\n",
    "print(\"Accuracy score =\", accuracy_score(y_test, predictions_y_4))"
   ]
  },
  {
   "cell_type": "markdown",
   "metadata": {},
   "source": [
    "## 5. Export du modèle de ML"
   ]
  },
  {
   "cell_type": "code",
   "execution_count": 24,
   "metadata": {},
   "outputs": [],
   "source": [
    "os.makedirs('./outputs', exist_ok=True)"
   ]
  },
  {
   "cell_type": "code",
   "execution_count": 25,
   "metadata": {},
   "outputs": [
    {
     "name": "stdout",
     "output_type": "stream",
     "text": [
      "2020-10-13 07:44:25.004347\n"
     ]
    }
   ],
   "source": [
    "import datetime\n",
    "maintenant = str(datetime.datetime.now())\n",
    "print(maintenant)"
   ]
  },
  {
   "cell_type": "code",
   "execution_count": 26,
   "metadata": {},
   "outputs": [],
   "source": [
    "filename = './outputs/modelenotebook-'+maintenant+'.pkl'"
   ]
  },
  {
   "cell_type": "code",
   "execution_count": 27,
   "metadata": {},
   "outputs": [
    {
     "name": "stdout",
     "output_type": "stream",
     "text": [
      "OK\n"
     ]
    }
   ],
   "source": [
    "pickle.dump(clf_important, open(filename, 'wb'))\n",
    "print(\"OK\")"
   ]
  },
  {
   "cell_type": "code",
   "execution_count": 28,
   "metadata": {},
   "outputs": [
    {
     "name": "stdout",
     "output_type": "stream",
     "text": [
      "-rwxrwxrwx 1 root root 861729576 Oct 13 07:44 ./outputs/modelenotebook-2020-10-13 07:44:25.004347.pkl\r\n"
     ]
    }
   ],
   "source": [
    "!ls ./outputs/modelenotebook*.pkl -l"
   ]
  },
  {
   "cell_type": "markdown",
   "metadata": {},
   "source": [
    "## 6. Tests du modèle"
   ]
  },
  {
   "cell_type": "code",
   "execution_count": 29,
   "metadata": {},
   "outputs": [],
   "source": [
    "loaded_model = pickle.load(open(filename, 'rb'))"
   ]
  },
  {
   "cell_type": "code",
   "execution_count": 30,
   "metadata": {},
   "outputs": [
    {
     "name": "stdout",
     "output_type": "stream",
     "text": [
      "Résultat : [1]\n"
     ]
    }
   ],
   "source": [
    "age = 61\n",
    "prevalentHyp = 1\n",
    "sysBP = 150\n",
    "glucose = 103\n",
    " \n",
    "print(\"Résultat :\", loaded_model.predict([[age, prevalentHyp, sysBP, glucose]]))"
   ]
  },
  {
   "cell_type": "code",
   "execution_count": 31,
   "metadata": {},
   "outputs": [
    {
     "name": "stdout",
     "output_type": "stream",
     "text": [
      "Résultat : [0]\n"
     ]
    }
   ],
   "source": [
    "age = 43\n",
    "prevalentHyp = 1\n",
    "sysBP = 180\n",
    "glucose = 99\n",
    " \n",
    "print(\"Résultat :\", loaded_model.predict([[age, prevalentHyp, sysBP, glucose]]))"
   ]
  },
  {
   "cell_type": "code",
   "execution_count": 32,
   "metadata": {},
   "outputs": [
    {
     "name": "stdout",
     "output_type": "stream",
     "text": [
      "Résultat : [1]\n"
     ]
    }
   ],
   "source": [
    "age = 63\n",
    "prevalentHyp = 0\n",
    "sysBP = 138\n",
    "glucose = 85\n",
    " \n",
    "print(\"Résultat :\", loaded_model.predict([[age, prevalentHyp, sysBP, glucose]]))"
   ]
  },
  {
   "cell_type": "code",
   "execution_count": 33,
   "metadata": {},
   "outputs": [
    {
     "name": "stdout",
     "output_type": "stream",
     "text": [
      "Résultat : [0]\n"
     ]
    }
   ],
   "source": [
    "age = 52\n",
    "prevalentHyp = 1\n",
    "sysBP = 141\n",
    "glucose = 75\n",
    " \n",
    "print(\"Résultat :\", loaded_model.predict([[age, prevalentHyp, sysBP, glucose]]))"
   ]
  },
  {
   "cell_type": "code",
   "execution_count": 34,
   "metadata": {},
   "outputs": [
    {
     "name": "stdout",
     "output_type": "stream",
     "text": [
      "Résultats :  [1 0 1]\n"
     ]
    }
   ],
   "source": [
    "results = loaded_model.predict([[61, 1, 150, 103],[43, 1, 180, 99],[63,0,138,85]])\n",
    "print(\"Résultats : \", results)"
   ]
  },
  {
   "cell_type": "code",
   "execution_count": 35,
   "metadata": {},
   "outputs": [
    {
     "name": "stdout",
     "output_type": "stream",
     "text": [
      "Résultats :\n",
      "[1, 0, 1]\n"
     ]
    }
   ],
   "source": [
    "import json\n",
    "\n",
    "to_be_scored_json = {\"data\":[[61, 1, 150, 103],[43, 1, 180, 99],[63,0,138,85]]}\n",
    "input_data_json = json.dumps(to_be_scored_json)\n",
    "\n",
    "to_be_scored_list = json.loads(input_data_json)[\"data\"]\n",
    "to_be_scored_list=np.array(to_be_scored_list)\n",
    "print(\"Résultats :\")\n",
    "print(loaded_model.predict(to_be_scored_list).tolist())"
   ]
  },
  {
   "cell_type": "markdown",
   "metadata": {},
   "source": [
    "> Fin"
   ]
  }
 ],
 "metadata": {
  "kernelspec": {
   "display_name": "Python 3",
   "language": "python",
   "name": "python3"
  },
  "language_info": {
   "codemirror_mode": {
    "name": "ipython",
    "version": 3
   },
   "file_extension": ".py",
   "mimetype": "text/x-python",
   "name": "python",
   "nbconvert_exporter": "python",
   "pygments_lexer": "ipython3",
   "version": "3.6.9"
  }
 },
 "nbformat": 4,
 "nbformat_minor": 2
}
