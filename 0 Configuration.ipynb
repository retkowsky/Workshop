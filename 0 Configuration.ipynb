{
 "cells": [
  {
   "cell_type": "markdown",
   "metadata": {},
   "source": [
    "# Configuration Azure ML"
   ]
  },
  {
   "cell_type": "markdown",
   "metadata": {},
   "source": [
    "<img src='https://github.com/retkowsky/images/blob/master/AzureMLservicebanniere.png?raw=true'>"
   ]
  },
  {
   "cell_type": "markdown",
   "metadata": {},
   "source": [
    "## 1. Infos"
   ]
  },
  {
   "cell_type": "code",
   "execution_count": 1,
   "metadata": {},
   "outputs": [
    {
     "name": "stdout",
     "output_type": "stream",
     "text": [
      "Version Python : 3.6.9 |Anaconda, Inc.| (default, Jul 30 2019, 19:07:31) \n",
      "[GCC 7.3.0]\n"
     ]
    }
   ],
   "source": [
    "import sys\n",
    "print(\"Version Python :\", sys.version)"
   ]
  },
  {
   "cell_type": "code",
   "execution_count": 2,
   "metadata": {},
   "outputs": [
    {
     "name": "stdout",
     "output_type": "stream",
     "text": [
      "Date : 2020-10-05 14:10:13.292232\n"
     ]
    }
   ],
   "source": [
    "import datetime\n",
    "maintenant = datetime.datetime.now()\n",
    "print('Date :', maintenant)"
   ]
  },
  {
   "cell_type": "code",
   "execution_count": 3,
   "metadata": {},
   "outputs": [
    {
     "data": {
      "text/plain": [
       "{'Platforme': 'Linux',\n",
       " 'Platforme-release': '4.15.0-1092-azure',\n",
       " 'Platforme-version': '#102~16.04.1-Ubuntu SMP Tue Jul 14 20:28:23 UTC 2020',\n",
       " 'Architecture': 'x86_64',\n",
       " 'Hostname': 'instancenotebooksjup',\n",
       " 'IP-address': '127.0.0.1',\n",
       " 'MAC-address': '00:0d:3a:23:7a:f6',\n",
       " 'Processeur': 'x86_64',\n",
       " 'RAM': '14 Go'}"
      ]
     },
     "execution_count": 3,
     "metadata": {},
     "output_type": "execute_result"
    }
   ],
   "source": [
    "import platform,socket,re,uuid,json,psutil,logging\n",
    "\n",
    "def getSystemInfo():\n",
    "    try:\n",
    "        info={}\n",
    "        info['Platforme']=platform.system()\n",
    "        info['Platforme-release']=platform.release()\n",
    "        info['Platforme-version']=platform.version()\n",
    "        info['Architecture']=platform.machine()\n",
    "        info['Hostname']=socket.gethostname()\n",
    "        info['IP-address']=socket.gethostbyname(socket.gethostname())\n",
    "        info['MAC-address']=':'.join(re.findall('..', '%012x' % uuid.getnode()))\n",
    "        info['Processeur']=platform.processor()\n",
    "        info['RAM']=str(round(psutil.virtual_memory().total / (1024.0 **3)))+\" Go\"\n",
    "        return json.dumps(info)\n",
    "    except Exception as e:\n",
    "        logging.exception(e)\n",
    "\n",
    "json.loads(getSystemInfo())\n"
   ]
  },
  {
   "cell_type": "markdown",
   "metadata": {},
   "source": [
    "## 2. Installation librairie AzureML service\n",
    "\n",
    "> Release notes Azure ML service : https://docs.microsoft.com/en-us/azure/machine-learning/service/azure-machine-learning-release-notes\n",
    "\n",
    "> Installation : https://docs.microsoft.com/en-us/python/api/overview/azure/ml/install?view=azure-ml-py"
   ]
  },
  {
   "cell_type": "markdown",
   "metadata": {},
   "source": [
    "### 2.1 Pour installer la première fois le SDK"
   ]
  },
  {
   "cell_type": "code",
   "execution_count": 4,
   "metadata": {},
   "outputs": [],
   "source": [
    "# Uniquement si vous ne disposez pas du SDK. Le SDK est installé par défaut dans une instance Notebook Jupyter Azure ML\n",
    "#pip install azureml-sdk"
   ]
  },
  {
   "cell_type": "markdown",
   "metadata": {},
   "source": [
    "> Redémarrer ensuite le kernel Jupyter"
   ]
  },
  {
   "cell_type": "markdown",
   "metadata": {},
   "source": [
    "### 2.2 Pour mettre à jour Azure ML service"
   ]
  },
  {
   "cell_type": "code",
   "execution_count": 5,
   "metadata": {},
   "outputs": [],
   "source": [
    "#pip install --upgrade azureml-sdk"
   ]
  },
  {
   "cell_type": "markdown",
   "metadata": {},
   "source": [
    "Penser à mettre à jour les extras et ensuite à relancer le kernel Jupyter"
   ]
  },
  {
   "cell_type": "code",
   "execution_count": 6,
   "metadata": {},
   "outputs": [],
   "source": [
    "#pip install --upgrade azureml-sdk[automl,notebooks,explain,accel-models,services,tensorboard]"
   ]
  },
  {
   "cell_type": "markdown",
   "metadata": {},
   "source": [
    "## 3. Version Azure ML installée"
   ]
  },
  {
   "cell_type": "code",
   "execution_count": 7,
   "metadata": {},
   "outputs": [],
   "source": [
    "from azureml.core import Workspace, Environment"
   ]
  },
  {
   "cell_type": "code",
   "execution_count": 8,
   "metadata": {},
   "outputs": [
    {
     "name": "stdout",
     "output_type": "stream",
     "text": [
      "Version Azure ML = 1.15.0\n"
     ]
    }
   ],
   "source": [
    "import azureml.core\n",
    "print(\"Version Azure ML =\",azureml.core.VERSION)"
   ]
  },
  {
   "cell_type": "markdown",
   "metadata": {},
   "source": [
    "> Versions Azure ML : https://docs.microsoft.com/en-us/azure/machine-learning/azure-machine-learning-release-notes"
   ]
  },
  {
   "cell_type": "code",
   "execution_count": 9,
   "metadata": {},
   "outputs": [
    {
     "name": "stdout",
     "output_type": "stream",
     "text": [
      "Versions :\n",
      "- Python = 3.6.9 |Anaconda, Inc.| (default, Jul 30 2019, 19:07:31) \n",
      "[GCC 7.3.0]\n",
      "- scipy = 1.4.1\n",
      "- numpy = 1.19.2\n",
      "- matplotlib = 3.2.2\n",
      "- pandas = 0.25.3\n",
      "- sklearn = 0.22.2.post1\n",
      "- Azure ML = 1.15.0\n"
     ]
    }
   ],
   "source": [
    "import scipy, numpy, matplotlib, pandas, sklearn\n",
    "print(\"Versions :\")\n",
    "print('- Python = {}'.format(sys.version))\n",
    "print('- scipy = {}'.format(scipy.__version__))\n",
    "print('- numpy = {}'.format(numpy.__version__))\n",
    "print('- matplotlib = {}'.format(matplotlib.__version__))\n",
    "print('- pandas = {}'.format(pandas.__version__))\n",
    "print('- sklearn = {}'.format(sklearn.__version__))\n",
    "print(\"- Azure ML =\",azureml.core.VERSION)"
   ]
  },
  {
   "cell_type": "markdown",
   "metadata": {},
   "source": [
    "## Liste des packages installés"
   ]
  },
  {
   "cell_type": "code",
   "execution_count": 10,
   "metadata": {},
   "outputs": [
    {
     "name": "stdout",
     "output_type": "stream",
     "text": [
      "Package                               Version\r\n",
      "------------------------------------- -------------------\r\n",
      "absl-py                               0.9.0\r\n",
      "adal                                  1.2.4\r\n",
      "aiohttp                               3.6.2\r\n",
      "alembic                               1.4.2\r\n",
      "ansiwrap                              0.8.4\r\n",
      "antlr4-python3-runtime                4.7.2\r\n",
      "applicationinsights                   0.11.9\r\n",
      "argcomplete                           1.12.0\r\n",
      "argon2-cffi                           20.1.0\r\n",
      "astor                                 0.8.1\r\n",
      "astroid                               2.4.2\r\n",
      "async-timeout                         3.0.1\r\n",
      "atari-py                              0.2.6\r\n",
      "attrs                                 19.3.0\r\n",
      "autopep8                              1.5.4\r\n",
      "azure-batch                           9.0.0\r\n",
      "azure-cli                             2.10.1\r\n",
      "azure-cli-command-modules-nspkg       2.0.3\r\n",
      "azure-cli-core                        2.10.1\r\n",
      "azure-cli-nspkg                       3.0.4\r\n",
      "azure-cli-telemetry                   1.0.4\r\n",
      "azure-common                          1.1.25\r\n",
      "azure-core                            1.7.0\r\n",
      "azure-cosmos                          3.2.0\r\n",
      "azure-datalake-store                  0.0.49\r\n",
      "azure-functions-devops-build          0.0.22\r\n",
      "azure-graphrbac                       0.61.1\r\n",
      "azure-identity                        1.2.0\r\n",
      "azure-keyvault                        1.1.0\r\n",
      "azure-loganalytics                    0.1.0\r\n",
      "azure-mgmt-advisor                    2.0.1\r\n",
      "azure-mgmt-apimanagement              0.1.0\r\n",
      "azure-mgmt-appconfiguration           0.5.0\r\n",
      "azure-mgmt-applicationinsights        0.1.1\r\n",
      "azure-mgmt-authorization              0.60.0\r\n",
      "azure-mgmt-batch                      9.0.0\r\n",
      "azure-mgmt-batchai                    2.0.0\r\n",
      "azure-mgmt-billing                    0.2.0\r\n",
      "azure-mgmt-botservice                 0.2.0\r\n",
      "azure-mgmt-cdn                        5.0.0\r\n",
      "azure-mgmt-cognitiveservices          6.2.0\r\n",
      "azure-mgmt-compute                    13.0.0\r\n",
      "azure-mgmt-consumption                2.0.0\r\n",
      "azure-mgmt-containerinstance          1.5.0\r\n",
      "azure-mgmt-containerregistry          2.8.0\r\n",
      "azure-mgmt-containerservice           9.0.1\r\n",
      "azure-mgmt-core                       1.0.0\r\n",
      "azure-mgmt-cosmosdb                   0.15.0\r\n",
      "azure-mgmt-datalake-analytics         0.2.1\r\n",
      "azure-mgmt-datalake-nspkg             3.0.1\r\n",
      "azure-mgmt-datalake-store             0.5.0\r\n",
      "azure-mgmt-datamigration              0.1.0\r\n",
      "azure-mgmt-deploymentmanager          0.2.0\r\n",
      "azure-mgmt-devtestlabs                4.0.0\r\n",
      "azure-mgmt-dns                        2.1.0\r\n",
      "azure-mgmt-eventgrid                  3.0.0rc7\r\n",
      "azure-mgmt-eventhub                   4.0.0\r\n",
      "azure-mgmt-hdinsight                  1.6.0\r\n",
      "azure-mgmt-imagebuilder               0.4.0\r\n",
      "azure-mgmt-iotcentral                 3.0.0\r\n",
      "azure-mgmt-iothub                     0.12.0\r\n",
      "azure-mgmt-iothubprovisioningservices 0.2.0\r\n",
      "azure-mgmt-keyvault                   2.2.0\r\n",
      "azure-mgmt-kusto                      0.3.0\r\n",
      "azure-mgmt-loganalytics               0.7.0\r\n",
      "azure-mgmt-managedservices            1.0.0\r\n",
      "azure-mgmt-managementgroups           0.2.0\r\n",
      "azure-mgmt-maps                       0.1.0\r\n",
      "azure-mgmt-marketplaceordering        0.2.1\r\n",
      "azure-mgmt-media                      2.2.0\r\n",
      "azure-mgmt-monitor                    0.11.0\r\n",
      "azure-mgmt-msi                        0.2.0\r\n",
      "azure-mgmt-netapp                     0.11.0\r\n",
      "azure-mgmt-network                    11.0.0\r\n",
      "azure-mgmt-nspkg                      3.0.2\r\n",
      "azure-mgmt-policyinsights             0.5.0\r\n",
      "azure-mgmt-privatedns                 0.1.0\r\n",
      "azure-mgmt-rdbms                      2.2.0\r\n",
      "azure-mgmt-recoveryservices           0.4.0\r\n",
      "azure-mgmt-recoveryservicesbackup     0.6.0\r\n",
      "azure-mgmt-redhatopenshift            0.1.0\r\n",
      "azure-mgmt-redis                      7.0.0rc1\r\n",
      "azure-mgmt-relay                      0.1.0\r\n",
      "azure-mgmt-reservations               0.6.0\r\n",
      "azure-mgmt-resource                   10.2.0\r\n",
      "azure-mgmt-search                     2.1.0\r\n",
      "azure-mgmt-security                   0.4.1\r\n",
      "azure-mgmt-servicebus                 0.6.0\r\n",
      "azure-mgmt-servicefabric              0.4.0\r\n",
      "azure-mgmt-signalr                    0.4.0\r\n",
      "azure-mgmt-sql                        0.19.0\r\n",
      "azure-mgmt-sqlvirtualmachine          0.5.0\r\n",
      "azure-mgmt-storage                    11.1.0\r\n",
      "azure-mgmt-trafficmanager             0.51.0\r\n",
      "azure-mgmt-web                        0.47.0\r\n",
      "azure-multiapi-storage                0.3.6\r\n",
      "azure-nspkg                           3.0.2\r\n",
      "azure-storage-blob                    12.3.2\r\n",
      "azure-storage-common                  1.4.2\r\n",
      "azureml-accel-models                  1.15.0\r\n",
      "azureml-automl-core                   1.15.0\r\n",
      "azureml-automl-runtime                1.15.0\r\n",
      "azureml-cli-common                    1.11.0\r\n",
      "azureml-contrib-dataset               1.11.0\r\n",
      "azureml-contrib-fairness              1.11.0\r\n",
      "azureml-contrib-gbdt                  1.11.0\r\n",
      "azureml-contrib-interpret             1.11.0\r\n",
      "azureml-contrib-notebook              1.15.0\r\n",
      "azureml-contrib-pipeline-steps        1.12.0\r\n",
      "azureml-contrib-reinforcementlearning 1.11.0\r\n",
      "azureml-contrib-server                1.12.0\r\n",
      "azureml-contrib-services              1.15.0\r\n",
      "azureml-core                          1.15.0\r\n",
      "azureml-datadrift                     1.11.0\r\n",
      "azureml-dataprep                      2.2.3\r\n",
      "azureml-dataprep-native               22.0.0\r\n",
      "azureml-dataprep-rslex                1.0.1\r\n",
      "azureml-dataset-runtime               1.15.0\r\n",
      "azureml-defaults                      1.15.0\r\n",
      "azureml-explain-model                 1.15.0\r\n",
      "azureml-interpret                     1.15.0\r\n",
      "azureml-mlflow                        1.11.0\r\n",
      "azureml-model-management-sdk          1.0.1b6.post1\r\n",
      "azureml-monitoring                    0.1.0a21\r\n",
      "azureml-opendatasets                  1.11.0\r\n",
      "azureml-pipeline                      1.15.0\r\n",
      "azureml-pipeline-core                 1.15.0\r\n",
      "azureml-pipeline-steps                1.15.0\r\n",
      "azureml-samples                       0+unknown\r\n",
      "azureml-sdk                           1.15.0\r\n",
      "azureml-telemetry                     1.15.0\r\n",
      "azureml-tensorboard                   1.15.0\r\n",
      "azureml-train                         1.15.0\r\n",
      "azureml-train-automl                  1.15.0\r\n",
      "azureml-train-automl-client           1.15.0.post1\r\n",
      "azureml-train-automl-runtime          1.15.0\r\n",
      "azureml-train-core                    1.15.0\r\n",
      "azureml-train-restclients-hyperdrive  1.15.0\r\n",
      "azureml-widgets                       1.15.0\r\n",
      "backcall                              0.2.0\r\n",
      "backports.functools-lru-cache         1.6.1\r\n",
      "backports.tempfile                    1.0\r\n",
      "backports.weakref                     1.0.post1\r\n",
      "bcrypt                                3.1.7\r\n",
      "beautifulsoup4                        4.9.1\r\n",
      "bleach                                3.1.5\r\n",
      "blessings                             1.7\r\n",
      "boto                                  2.49.0\r\n",
      "boto3                                 1.14.36\r\n",
      "botocore                              1.17.36\r\n",
      "brotlipy                              0.7.0\r\n",
      "cachetools                            4.1.1\r\n",
      "certifi                               2020.6.20\r\n",
      "cffi                                  1.14.1\r\n",
      "chardet                               3.0.4\r\n",
      "click                                 7.1.2\r\n",
      "cloudpickle                           1.3.0\r\n",
      "colorama                              0.4.3\r\n",
      "configparser                          3.7.4\r\n",
      "contextlib2                           0.6.0.post1\r\n",
      "convertdate                           2.2.1\r\n",
      "coremltools                           2.1.0\r\n",
      "cryptography                          3.0\r\n",
      "cssselect                             1.1.0\r\n",
      "cycler                                0.10.0\r\n",
      "Cython                                0.29.21\r\n",
      "databricks-cli                        0.11.0\r\n",
      "decorator                             4.4.2\r\n",
      "defusedxml                            0.6.0\r\n",
      "dill                                  0.3.2\r\n",
      "distro                                1.5.0\r\n",
      "dm-tree                               0.1.5\r\n",
      "docker                                4.2.2\r\n",
      "docutils                              0.15.2\r\n",
      "dotnetcore2                           2.1.14\r\n",
      "encrypted-inference                   0.9\r\n",
      "entrypoints                           0.3\r\n",
      "enum34                                1.1.10\r\n",
      "fabric                                2.5.0\r\n",
      "fairlearn                             0.4.6\r\n",
      "fbprophet                             0.5\r\n",
      "filelock                              3.0.12\r\n",
      "fire                                  0.3.1\r\n",
      "flake8                                3.8.3\r\n",
      "Flask                                 1.0.3\r\n",
      "Flask-Cors                            3.0.8\r\n",
      "fusepy                                3.0.1\r\n",
      "future                                0.18.2\r\n",
      "gast                                  0.2.2\r\n",
      "gensim                                3.8.3\r\n",
      "gevent                                20.6.2\r\n",
      "gitdb                                 4.0.5\r\n",
      "GitPython                             3.1.7\r\n",
      "google                                3.0.0\r\n",
      "google-auth                           1.20.1\r\n",
      "google-auth-oauthlib                  0.4.1\r\n",
      "google-pasta                          0.2.0\r\n",
      "gorilla                               0.3.0\r\n",
      "gpustat                               0.6.0\r\n",
      "greenlet                              0.4.16\r\n",
      "grpcio                                1.31.0\r\n",
      "gunicorn                              19.9.0\r\n",
      "gym                                   0.17.2\r\n",
      "h5py                                  2.10.0\r\n",
      "holidays                              0.9.11\r\n",
      "horovod                               0.19.1\r\n",
      "humanfriendly                         8.2\r\n",
      "idna                                  2.10\r\n",
      "idna-ssl                              1.1.0\r\n",
      "imageio                               2.9.0\r\n",
      "importlib-metadata                    1.7.0\r\n",
      "interpret-community                   0.15.1\r\n",
      "interpret-core                        0.1.21\r\n",
      "invoke                                1.4.1\r\n",
      "ipykernel                             5.3.4\r\n",
      "ipython                               7.16.1\r\n",
      "ipython-genutils                      0.2.0\r\n",
      "ipywidgets                            7.5.1\r\n",
      "isodate                               0.6.0\r\n",
      "isort                                 4.3.21\r\n",
      "itsdangerous                          1.1.0\r\n",
      "javaproperties                        0.5.1\r\n",
      "jedi                                  0.15.1\r\n",
      "jeepney                               0.4.3\r\n",
      "Jinja2                                2.11.2\r\n",
      "jmespath                              0.10.0\r\n",
      "joblib                                0.14.1\r\n",
      "jsmin                                 2.2.2\r\n",
      "json-logging-py                       0.2\r\n",
      "json5                                 0.9.4\r\n",
      "jsondiff                              1.2.0\r\n",
      "jsonpickle                            1.4.1\r\n",
      "jsonschema                            3.2.0\r\n",
      "jupyter                               1.0.0\r\n",
      "jupyter-client                        6.1.6\r\n",
      "jupyter-console                       6.1.0\r\n",
      "jupyter-core                          4.6.3\r\n",
      "jupyterlab                            2.1.4\r\n",
      "jupyterlab-server                     1.2.0\r\n",
      "jupytext                              1.5.2\r\n",
      "Keras                                 2.3.1\r\n",
      "Keras-Applications                    1.0.8\r\n",
      "Keras-Preprocessing                   1.1.2\r\n",
      "keras2onnx                            1.6.0\r\n",
      "kiwisolver                            1.2.0\r\n",
      "knack                                 0.7.2\r\n",
      "lazy-object-proxy                     1.4.3\r\n",
      "liac-arff                             2.4.0\r\n",
      "lightgbm                              2.3.0\r\n",
      "lunardate                             0.2.0\r\n",
      "lxml                                  4.5.2\r\n",
      "lz4                                   3.1.0\r\n",
      "Mako                                  1.1.3\r\n",
      "Markdown                              3.2.2\r\n",
      "MarkupSafe                            1.1.1\r\n",
      "matplotlib                            3.2.2\r\n",
      "mccabe                                0.6.1\r\n",
      "mistune                               0.8.4\r\n",
      "mkl-fft                               1.1.0\r\n",
      "mkl-random                            1.1.0\r\n",
      "mkl-service                           2.3.0\r\n",
      "mlflow                                1.10.0\r\n",
      "mock                                  4.0.2\r\n",
      "msal                                  1.4.3\r\n",
      "msal-extensions                       0.1.3\r\n",
      "msgpack                               1.0.0\r\n",
      "msrest                                0.6.18\r\n",
      "msrestazure                           0.6.4\r\n",
      "multidict                             4.7.6\r\n",
      "nb-conda-kernels                      2.2.4\r\n",
      "nbconvert                             5.6.1\r\n",
      "nbformat                              5.0.7\r\n",
      "ndg-httpsclient                       0.5.1\r\n",
      "networkx                              2.4\r\n",
      "nimbusml                              1.7.1\r\n",
      "notebook                              6.1.1\r\n",
      "numpy                                 1.19.2\r\n",
      "nvidia-ml-py3                         7.352.0\r\n",
      "oauthlib                              3.1.0\r\n",
      "olefile                               0.46\r\n",
      "onnx                                  1.6.0\r\n",
      "onnxconverter-common                  1.6.0\r\n",
      "onnxmltools                           1.4.1\r\n",
      "onnxruntime                           1.3.0\r\n",
      "opencv-python                         4.3.0.36\r\n",
      "opencv-python-headless                4.3.0.36\r\n",
      "opt-einsum                            3.3.0\r\n",
      "packaging                             20.4\r\n",
      "pandas                                0.25.3\r\n",
      "pandas-ml                             0.6.1\r\n",
      "pandocfilters                         1.4.2\r\n",
      "papermill                             1.2.1\r\n",
      "paramiko                              2.7.1\r\n",
      "parsel                                1.6.0\r\n",
      "parso                                 0.7.1\r\n",
      "pathspec                              0.8.0\r\n",
      "patsy                                 0.5.1\r\n",
      "pexpect                               4.8.0\r\n",
      "pickleshare                           0.7.5\r\n",
      "Pillow                                6.2.1\r\n",
      "pip                                   20.1.1\r\n",
      "pkginfo                               1.5.0.1\r\n",
      "pluggy                                0.13.1\r\n",
      "pmdarima                              1.1.1\r\n",
      "portalocker                           1.7.1\r\n",
      "prometheus-client                     0.8.0\r\n",
      "prometheus-flask-exporter             0.15.4\r\n",
      "prompt-toolkit                        3.0.5\r\n",
      "protobuf                              3.12.4\r\n",
      "psutil                                5.7.2\r\n",
      "ptyprocess                            0.6.0\r\n",
      "py-cpuinfo                            5.0.0\r\n",
      "py-spy                                0.3.3\r\n",
      "py4j                                  0.10.9\r\n",
      "pyarrow                               0.17.1\r\n",
      "pyasn1                                0.4.8\r\n",
      "pyasn1-modules                        0.2.8\r\n",
      "pycocotools                           2.0.0\r\n",
      "pycodestyle                           2.6.0\r\n",
      "pycparser                             2.20\r\n",
      "pydocstyle                            5.0.2\r\n",
      "pyflakes                              2.2.0\r\n",
      "pyglet                                1.5.0\r\n",
      "Pygments                              2.6.1\r\n",
      "PyJWT                                 1.7.1\r\n",
      "pylint                                2.5.3\r\n",
      "PyMeeus                               0.3.7\r\n",
      "PyNaCl                                1.4.0\r\n",
      "pyOpenSSL                             19.1.0\r\n",
      "pyparsing                             2.4.7\r\n",
      "pyrsistent                            0.16.0\r\n",
      "PySocks                               1.7.1\r\n",
      "pyspark                               3.0.0\r\n",
      "pystan                                2.19.0.0\r\n",
      "python-dateutil                       2.8.1\r\n",
      "python-editor                         1.0.4\r\n",
      "python-jsonrpc-server                 0.3.4\r\n",
      "python-language-server                0.30.0\r\n",
      "pytorch-transformers                  1.0.0\r\n",
      "pytz                                  2019.3\r\n",
      "PyWavelets                            1.1.1\r\n",
      "PyYAML                                5.3.1\r\n",
      "pyzmq                                 19.0.2\r\n",
      "qtconsole                             4.7.5\r\n",
      "QtPy                                  1.9.0\r\n",
      "querystring-parser                    1.2.4\r\n",
      "ray                                   0.8.6\r\n",
      "redis                                 3.4.1\r\n",
      "regex                                 2020.7.14\r\n",
      "requests                              2.24.0\r\n",
      "requests-oauthlib                     1.3.0\r\n",
      "rope                                  0.17.0\r\n",
      "rsa                                   4.6\r\n",
      "ruamel.yaml                           0.16.10\r\n",
      "ruamel.yaml.clib                      0.2.0\r\n",
      "s3transfer                            0.3.3\r\n",
      "scikit-image                          0.17.2\r\n",
      "scikit-learn                          0.22.2.post1\r\n",
      "scipy                                 1.4.1\r\n",
      "scp                                   0.13.2\r\n",
      "scrapbook                             0.2.0\r\n",
      "seaborn                               0.10.1\r\n",
      "SecretStorage                         3.1.2\r\n",
      "Send2Trash                            1.5.0\r\n",
      "sentencepiece                         0.1.91\r\n",
      "setuptools                            49.2.0.post20200714\r\n",
      "setuptools-git                        1.2\r\n",
      "shap                                  0.34.0\r\n",
      "six                                   1.15.0\r\n",
      "skl2onnx                              1.4.9\r\n",
      "sklearn                               0.0\r\n",
      "sklearn-pandas                        1.7.0\r\n",
      "smart-open                            1.9.0\r\n",
      "smmap                                 3.0.4\r\n",
      "snowballstemmer                       2.0.0\r\n",
      "soupsieve                             2.0.1\r\n",
      "SQLAlchemy                            1.3.13\r\n",
      "sqlparse                              0.3.1\r\n",
      "sshtunnel                             0.1.5\r\n",
      "statsmodels                           0.10.2\r\n",
      "tabulate                              0.8.7\r\n",
      "tenacity                              6.2.0\r\n",
      "tensorboard                           2.3.0\r\n",
      "tensorboard-plugin-wit                1.7.0\r\n",
      "tensorboardX                          2.1\r\n",
      "tensorflow                            2.1.0\r\n",
      "tensorflow-estimator                  2.1.0\r\n",
      "tensorflow-gpu                        2.1.0\r\n",
      "termcolor                             1.1.0\r\n",
      "terminado                             0.8.3\r\n",
      "testpath                              0.4.4\r\n",
      "textwrap3                             0.9.2\r\n",
      "threadpoolctl                         2.1.0\r\n",
      "tifffile                              2020.7.24\r\n",
      "toml                                  0.10.1\r\n",
      "torch                                 1.4.0\r\n",
      "torchvision                           0.5.0\r\n",
      "tornado                               6.0.4\r\n",
      "tqdm                                  4.48.2\r\n",
      "traitlets                             4.3.3\r\n",
      "typed-ast                             1.4.1\r\n",
      "typing-extensions                     3.7.4.2\r\n",
      "ujson                                 1.35\r\n",
      "urllib3                               1.25.10\r\n",
      "utils                                 1.0.1\r\n",
      "vsts                                  0.1.25\r\n",
      "vsts-cd-manager                       1.0.2\r\n",
      "w3lib                                 1.22.0\r\n",
      "waitress                              1.4.4\r\n",
      "wcwidth                               0.2.5\r\n",
      "webencodings                          0.5.1\r\n",
      "websocket-client                      0.57.0\r\n",
      "websockets                            8.1\r\n",
      "Werkzeug                              0.16.1\r\n",
      "wheel                                 0.34.2\r\n",
      "widgetsnbextension                    3.5.1\r\n",
      "wrapt                                 1.12.1\r\n",
      "xgboost                               0.90\r\n",
      "xmltodict                             0.12.0\r\n",
      "yapf                                  0.30.0\r\n",
      "yarl                                  1.5.1\r\n",
      "zipp                                  3.1.0\r\n",
      "zope.event                            4.4\r\n",
      "zope.interface                        5.1.0\r\n"
     ]
    },
    {
     "name": "stdout",
     "output_type": "stream",
     "text": [
      "Note: you may need to restart the kernel to use updated packages.\n"
     ]
    }
   ],
   "source": [
    "pip list"
   ]
  },
  {
   "cell_type": "code",
   "execution_count": 11,
   "metadata": {},
   "outputs": [
    {
     "name": "stdout",
     "output_type": "stream",
     "text": [
      "scikit-learn                          0.22.2.post1\n",
      "Note: you may need to restart the kernel to use updated packages.\n"
     ]
    }
   ],
   "source": [
    "pip list | grep scikit-learn "
   ]
  },
  {
   "cell_type": "code",
   "execution_count": 12,
   "metadata": {},
   "outputs": [
    {
     "name": "stdout",
     "output_type": "stream",
     "text": [
      "tensorflow                            2.1.0\n",
      "tensorflow-estimator                  2.1.0\n",
      "tensorflow-gpu                        2.1.0\n",
      "Note: you may need to restart the kernel to use updated packages.\n"
     ]
    }
   ],
   "source": [
    "pip list | grep tensorflow"
   ]
  },
  {
   "cell_type": "markdown",
   "metadata": {},
   "source": [
    "## 4. Workspace Azure ML"
   ]
  },
  {
   "cell_type": "code",
   "execution_count": 13,
   "metadata": {},
   "outputs": [],
   "source": [
    "subscription_id = \"AREMPLACER\"\n",
    "resource_group = \"workshop-rg\"\n",
    "workspace_name = \"workshop\""
   ]
  },
  {
   "cell_type": "code",
   "execution_count": 14,
   "metadata": {},
   "outputs": [],
   "source": [
    "import os\n",
    "subscription_id = os.environ.get(\"SUBSCRIPTION_ID\", subscription_id)\n",
    "resource_group = os.environ.get(\"RESOURCE_GROUP\", resource_group) \n",
    "workspace_name = os.environ.get(\"WORKSPACE_NAME\", workspace_name)"
   ]
  },
  {
   "cell_type": "code",
   "execution_count": 15,
   "metadata": {},
   "outputs": [
    {
     "name": "stdout",
     "output_type": "stream",
     "text": [
      "Le workspace Azure ML service a été trouvé : OK\n"
     ]
    }
   ],
   "source": [
    "from azureml.core import Workspace\n",
    "\n",
    "try:\n",
    "   ws = Workspace(subscription_id = subscription_id, resource_group = resource_group, workspace_name = workspace_name)\n",
    "   ws.write_config()\n",
    "   print(\"Le workspace Azure ML service a été trouvé : OK\")\n",
    "except:\n",
    "   print(\"Le workspace Azure ML service n'a pas été trouvé\")"
   ]
  },
  {
   "cell_type": "code",
   "execution_count": 16,
   "metadata": {},
   "outputs": [
    {
     "name": "stdout",
     "output_type": "stream",
     "text": [
      "Workspace : workshop\n",
      "Région : westeurope\n",
      "Groupe de ressources : workshop-rg\n"
     ]
    }
   ],
   "source": [
    "# Lecture du fichier de config\n",
    "ws = Workspace.from_config()\n",
    "print('Workspace : ' + ws.name, \n",
    "      'Région : ' + ws.location, \n",
    "      'Groupe de ressources : ' + ws.resource_group, sep='\\n')"
   ]
  },
  {
   "cell_type": "code",
   "execution_count": 17,
   "metadata": {},
   "outputs": [
    {
     "data": {
      "text/plain": [
       "{'id': '/subscriptions/70b8f39e-8863-49f7-b6ba-34a80799550c/resourceGroups/workshop-rg/providers/Microsoft.MachineLearningServices/workspaces/workshop',\n",
       " 'name': 'workshop',\n",
       " 'location': 'westeurope',\n",
       " 'type': 'Microsoft.MachineLearningServices/workspaces',\n",
       " 'tags': {},\n",
       " 'sku': 'Enterprise',\n",
       " 'workspaceid': 'fb3abe70-3dfd-4e99-b5dc-423b30a296c2',\n",
       " 'description': '',\n",
       " 'friendlyName': 'workshop',\n",
       " 'creationTime': '2020-08-27T09:14:30.0023964+00:00',\n",
       " 'containerRegistry': '/subscriptions/70b8f39e-8863-49f7-b6ba-34a80799550c/resourceGroups/workshop-rg/providers/Microsoft.ContainerRegistry/registries/fb3abe703dfd4e99b5dc423b30a296c2',\n",
       " 'keyVault': '/subscriptions/70b8f39e-8863-49f7-b6ba-34a80799550c/resourcegroups/workshop-rg/providers/microsoft.keyvault/vaults/workshop4186867087',\n",
       " 'applicationInsights': '/subscriptions/70b8f39e-8863-49f7-b6ba-34a80799550c/resourcegroups/workshop-rg/providers/microsoft.insights/components/workshop4556106732',\n",
       " 'identityPrincipalId': '5dcad1a0-98aa-4db8-bdb5-ba55a6029b4c',\n",
       " 'identityTenantId': '72f988bf-86f1-41af-91ab-2d7cd011db47',\n",
       " 'identityType': 'SystemAssigned',\n",
       " 'storageAccount': '/subscriptions/70b8f39e-8863-49f7-b6ba-34a80799550c/resourcegroups/workshop-rg/providers/microsoft.storage/storageaccounts/workshop0626956173',\n",
       " 'hbiWorkspace': False,\n",
       " 'discoveryUrl': 'https://westeurope.experiments.azureml.net/discovery',\n",
       " 'notebookInfo': {'fqdn': 'ml-workshop-westeurope-fb3abe70-3dfd-4e99-b5dc-423b30a296c2.notebooks.azure.net',\n",
       "  'resource_id': '33e947669d02468dac5c8603b28f8bf3'}}"
      ]
     },
     "execution_count": 17,
     "metadata": {},
     "output_type": "execute_result"
    }
   ],
   "source": [
    "# Infos\n",
    "from azureml.core.workspace import Workspace\n",
    "ws = Workspace.from_config()\n",
    "ws.get_details()"
   ]
  },
  {
   "cell_type": "markdown",
   "metadata": {},
   "source": [
    "## Azure ML Studio"
   ]
  },
  {
   "cell_type": "markdown",
   "metadata": {},
   "source": [
    "https://ml.azure.com/"
   ]
  },
  {
   "cell_type": "markdown",
   "metadata": {},
   "source": [
    "<img src=\"https://github.com/retkowsky/images/blob/master/LandingPage.jpg?raw=true\">"
   ]
  },
  {
   "cell_type": "markdown",
   "metadata": {},
   "source": [
    "## Azure ML CLI (Command Line Interface)"
   ]
  },
  {
   "cell_type": "markdown",
   "metadata": {},
   "source": [
    "Documentation Azure ML CLI :\n",
    "https://docs.microsoft.com/en-us/azure/machine-learning/reference-azure-machine-learning-cli\n",
    "\n",
    "Prérequis : Azure CLI\n",
    "Pour installer Azure CLI sur Windows :\n",
    "https://docs.microsoft.com/en-us/cli/azure/install-azure-cli-windows?view=azure-cli-latest\n",
    "<br>\n",
    "\n",
    "Azure QuickStart Template\n",
    "https://azure.microsoft.com/en-us/resources/templates/"
   ]
  },
  {
   "cell_type": "markdown",
   "metadata": {},
   "source": [
    "# Documentation"
   ]
  },
  {
   "cell_type": "markdown",
   "metadata": {},
   "source": [
    "- Documentation :<br> https://docs.microsoft.com/en-us/azure/machine-learning/\n",
    "\n",
    "- Nouveautés versions Azure ML service: <br>\n",
    "https://docs.microsoft.com/en-us/azure/machine-learning/service/azure-machine-learning-release-notes?view=azure-ml-py\n",
    "\n",
    "- What is Azure ML service SDK?<br>\n",
    "https://docs.microsoft.com/en-us/python/api/overview/azure/ml/intro?view=azure-ml-py\n",
    "\n",
    "- Azure ML Visual Interface<br>\n",
    "Algorithm & module reference overview<br>\n",
    "https://docs.microsoft.com/en-us/azure/machine-learning/algorithm-module-reference/module-reference\n"
   ]
  },
  {
   "cell_type": "markdown",
   "metadata": {},
   "source": [
    "<img src=\"https://github.com/retkowsky/images/blob/master/Powered-by-MS-Azure-logo-v2.png?raw=true\" height=\"300\" width=\"300\">"
   ]
  }
 ],
 "metadata": {
  "kernelspec": {
   "display_name": "Python 3.6 - AzureML",
   "language": "python",
   "name": "python3-azureml"
  },
  "language_info": {
   "codemirror_mode": {
    "name": "ipython",
    "version": 3
   },
   "file_extension": ".py",
   "mimetype": "text/x-python",
   "name": "python",
   "nbconvert_exporter": "python",
   "pygments_lexer": "ipython3",
   "version": "3.6.9"
  }
 },
 "nbformat": 4,
 "nbformat_minor": 2
}
